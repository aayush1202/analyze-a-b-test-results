{
 "cells": [
  {
   "cell_type": "markdown",
   "metadata": {},
   "source": [
    "## Analyze A/B Test Results\n",
    "\n",
    "This project will assure you have mastered the subjects covered in the statistics lessons.  The hope is to have this project be as comprehensive of these topics as possible.  Good luck!\n",
    "\n",
    "## Table of Contents\n",
    "- [Introduction](#intro)\n",
    "- [Part I - Probability](#probability)\n",
    "- [Part II - A/B Test](#ab_test)\n",
    "- [Part III - Regression](#regression)\n",
    "\n",
    "\n",
    "<a id='intro'></a>\n",
    "### Introduction\n",
    "\n",
    "A/B tests are very commonly performed by data analysts and data scientists.  It is important that you get some practice working with the difficulties of these \n",
    "\n",
    "For this project, you will be working to understand the results of an A/B test run by an e-commerce website.  Your goal is to work through this notebook to help the company understand if they should implement the new page, keep the old page, or perhaps run the experiment longer to make their decision.\n",
    "\n",
    "**As you work through this notebook, follow along in the classroom and answer the corresponding quiz questions associated with each question.** The labels for each classroom concept are provided for each question.  This will assure you are on the right track as you work through the project, and you can feel more confident in your final submission meeting the criteria.  As a final check, assure you meet all the criteria on the [RUBRIC](https://review.udacity.com/#!/projects/37e27304-ad47-4eb0-a1ab-8c12f60e43d0/rubric).\n",
    "\n",
    "<a id='probability'></a>\n",
    "#### Part I - Probability\n",
    "\n",
    "To get started, let's import our libraries."
   ]
  },
  {
   "cell_type": "code",
   "execution_count": 1,
   "metadata": {
    "collapsed": true
   },
   "outputs": [],
   "source": [
    "import pandas as pd\n",
    "import numpy as np\n",
    "import random\n",
    "import matplotlib.pyplot as plt\n",
    "%matplotlib inline\n",
    "#We are setting the seed to assure you get the same answers on quizzes as we set up\n",
    "random.seed(42)"
   ]
  },
  {
   "cell_type": "markdown",
   "metadata": {},
   "source": [
    "`1.` Now, read in the `ab_data.csv` data. Store it in `df`.  **Use your dataframe to answer the questions in Quiz 1 of the classroom.**\n",
    "\n",
    "a. Read in the dataset and take a look at the top few rows here:"
   ]
  },
  {
   "cell_type": "code",
   "execution_count": 2,
   "metadata": {
    "collapsed": true
   },
   "outputs": [
    {
     "data": {
      "text/html": [
       "<div>\n",
       "<style scoped>\n",
       "    .dataframe tbody tr th:only-of-type {\n",
       "        vertical-align: middle;\n",
       "    }\n",
       "\n",
       "    .dataframe tbody tr th {\n",
       "        vertical-align: top;\n",
       "    }\n",
       "\n",
       "    .dataframe thead th {\n",
       "        text-align: right;\n",
       "    }\n",
       "</style>\n",
       "<table border=\"1\" class=\"dataframe\">\n",
       "  <thead>\n",
       "    <tr style=\"text-align: right;\">\n",
       "      <th></th>\n",
       "      <th>user_id</th>\n",
       "      <th>timestamp</th>\n",
       "      <th>group</th>\n",
       "      <th>landing_page</th>\n",
       "      <th>converted</th>\n",
       "    </tr>\n",
       "  </thead>\n",
       "  <tbody>\n",
       "    <tr>\n",
       "      <th>0</th>\n",
       "      <td>851104</td>\n",
       "      <td>2017-01-21 22:11:48.556739</td>\n",
       "      <td>control</td>\n",
       "      <td>old_page</td>\n",
       "      <td>0</td>\n",
       "    </tr>\n",
       "    <tr>\n",
       "      <th>1</th>\n",
       "      <td>804228</td>\n",
       "      <td>2017-01-12 08:01:45.159739</td>\n",
       "      <td>control</td>\n",
       "      <td>old_page</td>\n",
       "      <td>0</td>\n",
       "    </tr>\n",
       "    <tr>\n",
       "      <th>2</th>\n",
       "      <td>661590</td>\n",
       "      <td>2017-01-11 16:55:06.154213</td>\n",
       "      <td>treatment</td>\n",
       "      <td>new_page</td>\n",
       "      <td>0</td>\n",
       "    </tr>\n",
       "    <tr>\n",
       "      <th>3</th>\n",
       "      <td>853541</td>\n",
       "      <td>2017-01-08 18:28:03.143765</td>\n",
       "      <td>treatment</td>\n",
       "      <td>new_page</td>\n",
       "      <td>0</td>\n",
       "    </tr>\n",
       "    <tr>\n",
       "      <th>4</th>\n",
       "      <td>864975</td>\n",
       "      <td>2017-01-21 01:52:26.210827</td>\n",
       "      <td>control</td>\n",
       "      <td>old_page</td>\n",
       "      <td>1</td>\n",
       "    </tr>\n",
       "  </tbody>\n",
       "</table>\n",
       "</div>"
      ],
      "text/plain": [
       "   user_id                   timestamp      group landing_page  converted\n",
       "0   851104  2017-01-21 22:11:48.556739    control     old_page          0\n",
       "1   804228  2017-01-12 08:01:45.159739    control     old_page          0\n",
       "2   661590  2017-01-11 16:55:06.154213  treatment     new_page          0\n",
       "3   853541  2017-01-08 18:28:03.143765  treatment     new_page          0\n",
       "4   864975  2017-01-21 01:52:26.210827    control     old_page          1"
      ]
     },
     "execution_count": 2,
     "metadata": {},
     "output_type": "execute_result"
    }
   ],
   "source": [
    "df = pd.read_csv('ab_data.csv')\n",
    "df.head()"
   ]
  },
  {
   "cell_type": "markdown",
   "metadata": {},
   "source": [
    "b. Use the below cell to find the number of rows in the dataset."
   ]
  },
  {
   "cell_type": "code",
   "execution_count": 3,
   "metadata": {
    "collapsed": true
   },
   "outputs": [
    {
     "data": {
      "text/plain": [
       "294478"
      ]
     },
     "execution_count": 3,
     "metadata": {},
     "output_type": "execute_result"
    }
   ],
   "source": [
    "df.index.size"
   ]
  },
  {
   "cell_type": "markdown",
   "metadata": {},
   "source": [
    "c. The number of unique users in the dataset."
   ]
  },
  {
   "cell_type": "code",
   "execution_count": 4,
   "metadata": {
    "collapsed": true
   },
   "outputs": [
    {
     "data": {
      "text/plain": [
       "290584"
      ]
     },
     "execution_count": 4,
     "metadata": {},
     "output_type": "execute_result"
    }
   ],
   "source": [
    "unique_users = df.user_id.unique()\n",
    "total_users = len(unique_users)\n",
    "total_users"
   ]
  },
  {
   "cell_type": "markdown",
   "metadata": {
    "collapsed": true
   },
   "source": [
    "d. The proportion of users converted."
   ]
  },
  {
   "cell_type": "code",
   "execution_count": 5,
   "metadata": {
    "collapsed": true
   },
   "outputs": [
    {
     "data": {
      "text/plain": [
       "0.12104245244060237"
      ]
     },
     "execution_count": 5,
     "metadata": {},
     "output_type": "execute_result"
    }
   ],
   "source": [
    "users_converted_df = df[df.converted == 1].user_id.unique()\n",
    "users_converted = len(users_converted_df)\n",
    "users_converted_proportion = users_converted/total_users\n",
    "users_converted_proportion"
   ]
  },
  {
   "cell_type": "markdown",
   "metadata": {
    "collapsed": true
   },
   "source": [
    "e. The number of times the `new_page` and `treatment` don't line up."
   ]
  },
  {
   "cell_type": "code",
   "execution_count": 6,
   "metadata": {
    "collapsed": true
   },
   "outputs": [
    {
     "data": {
      "text/plain": [
       "3893"
      ]
     },
     "execution_count": 6,
     "metadata": {},
     "output_type": "execute_result"
    }
   ],
   "source": [
    "mismatch_df = df[((df['group']=='treatment') & (df['landing_page']=='old_page') | ((df.group=='control') & (df.landing_page == 'new_page')))]\n",
    "len(mismatch_df)"
   ]
  },
  {
   "cell_type": "markdown",
   "metadata": {},
   "source": [
    "f. Do any of the rows have missing values?"
   ]
  },
  {
   "cell_type": "code",
   "execution_count": 7,
   "metadata": {
    "collapsed": true
   },
   "outputs": [
    {
     "data": {
      "text/plain": [
       "user_id         0\n",
       "timestamp       0\n",
       "group           0\n",
       "landing_page    0\n",
       "converted       0\n",
       "dtype: int64"
      ]
     },
     "execution_count": 7,
     "metadata": {},
     "output_type": "execute_result"
    }
   ],
   "source": [
    "df.isna().sum()"
   ]
  },
  {
   "cell_type": "markdown",
   "metadata": {},
   "source": [
    "`2.` For the rows where **treatment** is not aligned with **new_page** or **control** is not aligned with **old_page**, we cannot be sure if this row truly received the new or old page.  Use **Quiz 2** in the classroom to provide how we should handle these rows.  \n",
    "\n",
    "a. Now use the answer to the quiz to create a new dataset that meets the specifications from the quiz.  Store your new dataframe in **df2**."
   ]
  },
  {
   "cell_type": "code",
   "execution_count": 8,
   "metadata": {
    "collapsed": true
   },
   "outputs": [
    {
     "data": {
      "text/html": [
       "<div>\n",
       "<style scoped>\n",
       "    .dataframe tbody tr th:only-of-type {\n",
       "        vertical-align: middle;\n",
       "    }\n",
       "\n",
       "    .dataframe tbody tr th {\n",
       "        vertical-align: top;\n",
       "    }\n",
       "\n",
       "    .dataframe thead th {\n",
       "        text-align: right;\n",
       "    }\n",
       "</style>\n",
       "<table border=\"1\" class=\"dataframe\">\n",
       "  <thead>\n",
       "    <tr style=\"text-align: right;\">\n",
       "      <th></th>\n",
       "      <th>user_id</th>\n",
       "      <th>timestamp</th>\n",
       "      <th>group</th>\n",
       "      <th>landing_page</th>\n",
       "      <th>converted</th>\n",
       "    </tr>\n",
       "  </thead>\n",
       "  <tbody>\n",
       "    <tr>\n",
       "      <th>0</th>\n",
       "      <td>851104</td>\n",
       "      <td>2017-01-21 22:11:48.556739</td>\n",
       "      <td>control</td>\n",
       "      <td>old_page</td>\n",
       "      <td>0</td>\n",
       "    </tr>\n",
       "    <tr>\n",
       "      <th>1</th>\n",
       "      <td>804228</td>\n",
       "      <td>2017-01-12 08:01:45.159739</td>\n",
       "      <td>control</td>\n",
       "      <td>old_page</td>\n",
       "      <td>0</td>\n",
       "    </tr>\n",
       "    <tr>\n",
       "      <th>2</th>\n",
       "      <td>661590</td>\n",
       "      <td>2017-01-11 16:55:06.154213</td>\n",
       "      <td>treatment</td>\n",
       "      <td>new_page</td>\n",
       "      <td>0</td>\n",
       "    </tr>\n",
       "    <tr>\n",
       "      <th>3</th>\n",
       "      <td>853541</td>\n",
       "      <td>2017-01-08 18:28:03.143765</td>\n",
       "      <td>treatment</td>\n",
       "      <td>new_page</td>\n",
       "      <td>0</td>\n",
       "    </tr>\n",
       "    <tr>\n",
       "      <th>4</th>\n",
       "      <td>864975</td>\n",
       "      <td>2017-01-21 01:52:26.210827</td>\n",
       "      <td>control</td>\n",
       "      <td>old_page</td>\n",
       "      <td>1</td>\n",
       "    </tr>\n",
       "  </tbody>\n",
       "</table>\n",
       "</div>"
      ],
      "text/plain": [
       "   user_id                   timestamp      group landing_page  converted\n",
       "0   851104  2017-01-21 22:11:48.556739    control     old_page          0\n",
       "1   804228  2017-01-12 08:01:45.159739    control     old_page          0\n",
       "2   661590  2017-01-11 16:55:06.154213  treatment     new_page          0\n",
       "3   853541  2017-01-08 18:28:03.143765  treatment     new_page          0\n",
       "4   864975  2017-01-21 01:52:26.210827    control     old_page          1"
      ]
     },
     "execution_count": 8,
     "metadata": {},
     "output_type": "execute_result"
    }
   ],
   "source": [
    "df2 = df[((df['group']=='treatment') & (df['landing_page']=='new_page') | ((df.group=='control') & (df.landing_page == 'old_page')))]\n",
    "df2.head()"
   ]
  },
  {
   "cell_type": "code",
   "execution_count": 9,
   "metadata": {
    "collapsed": true
   },
   "outputs": [
    {
     "data": {
      "text/plain": [
       "0"
      ]
     },
     "execution_count": 9,
     "metadata": {},
     "output_type": "execute_result"
    }
   ],
   "source": [
    "# Double Check all of the correct rows were removed - this should be 0\n",
    "df2[((df2['group'] == 'treatment') == (df2['landing_page'] == 'new_page')) == False].shape[0]"
   ]
  },
  {
   "cell_type": "markdown",
   "metadata": {},
   "source": [
    "`3.` Use **df2** and the cells below to answer questions for **Quiz3** in the classroom."
   ]
  },
  {
   "cell_type": "markdown",
   "metadata": {},
   "source": [
    "a. How many unique **user_id**s are in **df2**?"
   ]
  },
  {
   "cell_type": "code",
   "execution_count": 10,
   "metadata": {
    "collapsed": true
   },
   "outputs": [
    {
     "data": {
      "text/plain": [
       "290584"
      ]
     },
     "execution_count": 10,
     "metadata": {},
     "output_type": "execute_result"
    }
   ],
   "source": [
    "unique_user_df2 = len(df2.user_id.unique())\n",
    "unique_user_df2"
   ]
  },
  {
   "cell_type": "markdown",
   "metadata": {
    "collapsed": true
   },
   "source": [
    "b. There is one **user_id** repeated in **df2**.  What is it?"
   ]
  },
  {
   "cell_type": "code",
   "execution_count": 11,
   "metadata": {
    "collapsed": true
   },
   "outputs": [
    {
     "data": {
      "text/html": [
       "<div>\n",
       "<style scoped>\n",
       "    .dataframe tbody tr th:only-of-type {\n",
       "        vertical-align: middle;\n",
       "    }\n",
       "\n",
       "    .dataframe tbody tr th {\n",
       "        vertical-align: top;\n",
       "    }\n",
       "\n",
       "    .dataframe thead th {\n",
       "        text-align: right;\n",
       "    }\n",
       "</style>\n",
       "<table border=\"1\" class=\"dataframe\">\n",
       "  <thead>\n",
       "    <tr style=\"text-align: right;\">\n",
       "      <th></th>\n",
       "      <th>user_id</th>\n",
       "      <th>timestamp</th>\n",
       "      <th>group</th>\n",
       "      <th>landing_page</th>\n",
       "      <th>converted</th>\n",
       "    </tr>\n",
       "  </thead>\n",
       "  <tbody>\n",
       "    <tr>\n",
       "      <th>131712</th>\n",
       "      <td>773192</td>\n",
       "      <td>2</td>\n",
       "      <td>2</td>\n",
       "      <td>2</td>\n",
       "      <td>2</td>\n",
       "    </tr>\n",
       "  </tbody>\n",
       "</table>\n",
       "</div>"
      ],
      "text/plain": [
       "        user_id  timestamp  group  landing_page  converted\n",
       "131712   773192          2      2             2          2"
      ]
     },
     "execution_count": 11,
     "metadata": {},
     "output_type": "execute_result"
    }
   ],
   "source": [
    "test_df = df2.groupby('user_id').count().reset_index()\n",
    "test_df[test_df.timestamp == 2]"
   ]
  },
  {
   "cell_type": "markdown",
   "metadata": {},
   "source": [
    "c. What is the row information for the repeat **user_id**? "
   ]
  },
  {
   "cell_type": "code",
   "execution_count": 12,
   "metadata": {
    "collapsed": true
   },
   "outputs": [
    {
     "data": {
      "text/html": [
       "<div>\n",
       "<style scoped>\n",
       "    .dataframe tbody tr th:only-of-type {\n",
       "        vertical-align: middle;\n",
       "    }\n",
       "\n",
       "    .dataframe tbody tr th {\n",
       "        vertical-align: top;\n",
       "    }\n",
       "\n",
       "    .dataframe thead th {\n",
       "        text-align: right;\n",
       "    }\n",
       "</style>\n",
       "<table border=\"1\" class=\"dataframe\">\n",
       "  <thead>\n",
       "    <tr style=\"text-align: right;\">\n",
       "      <th></th>\n",
       "      <th>user_id</th>\n",
       "      <th>timestamp</th>\n",
       "      <th>group</th>\n",
       "      <th>landing_page</th>\n",
       "      <th>converted</th>\n",
       "    </tr>\n",
       "  </thead>\n",
       "  <tbody>\n",
       "    <tr>\n",
       "      <th>1899</th>\n",
       "      <td>773192</td>\n",
       "      <td>2017-01-09 05:37:58.781806</td>\n",
       "      <td>treatment</td>\n",
       "      <td>new_page</td>\n",
       "      <td>0</td>\n",
       "    </tr>\n",
       "    <tr>\n",
       "      <th>2893</th>\n",
       "      <td>773192</td>\n",
       "      <td>2017-01-14 02:55:59.590927</td>\n",
       "      <td>treatment</td>\n",
       "      <td>new_page</td>\n",
       "      <td>0</td>\n",
       "    </tr>\n",
       "  </tbody>\n",
       "</table>\n",
       "</div>"
      ],
      "text/plain": [
       "      user_id                   timestamp      group landing_page  converted\n",
       "1899   773192  2017-01-09 05:37:58.781806  treatment     new_page          0\n",
       "2893   773192  2017-01-14 02:55:59.590927  treatment     new_page          0"
      ]
     },
     "execution_count": 12,
     "metadata": {},
     "output_type": "execute_result"
    }
   ],
   "source": [
    "df2[df2.user_id == 773192]"
   ]
  },
  {
   "cell_type": "markdown",
   "metadata": {},
   "source": [
    "d. Remove **one** of the rows with a duplicate **user_id**, but keep your dataframe as **df2**."
   ]
  },
  {
   "cell_type": "code",
   "execution_count": 13,
   "metadata": {
    "collapsed": true
   },
   "outputs": [
    {
     "data": {
      "text/html": [
       "<div>\n",
       "<style scoped>\n",
       "    .dataframe tbody tr th:only-of-type {\n",
       "        vertical-align: middle;\n",
       "    }\n",
       "\n",
       "    .dataframe tbody tr th {\n",
       "        vertical-align: top;\n",
       "    }\n",
       "\n",
       "    .dataframe thead th {\n",
       "        text-align: right;\n",
       "    }\n",
       "</style>\n",
       "<table border=\"1\" class=\"dataframe\">\n",
       "  <thead>\n",
       "    <tr style=\"text-align: right;\">\n",
       "      <th></th>\n",
       "      <th>user_id</th>\n",
       "      <th>timestamp</th>\n",
       "      <th>group</th>\n",
       "      <th>landing_page</th>\n",
       "      <th>converted</th>\n",
       "    </tr>\n",
       "  </thead>\n",
       "  <tbody>\n",
       "    <tr>\n",
       "      <th>1899</th>\n",
       "      <td>773192</td>\n",
       "      <td>2017-01-09 05:37:58.781806</td>\n",
       "      <td>treatment</td>\n",
       "      <td>new_page</td>\n",
       "      <td>0</td>\n",
       "    </tr>\n",
       "  </tbody>\n",
       "</table>\n",
       "</div>"
      ],
      "text/plain": [
       "      user_id                   timestamp      group landing_page  converted\n",
       "1899   773192  2017-01-09 05:37:58.781806  treatment     new_page          0"
      ]
     },
     "execution_count": 13,
     "metadata": {},
     "output_type": "execute_result"
    }
   ],
   "source": [
    "df2 = df2.drop(index=2893, axis=0)\n",
    "df2[df2.user_id == 773192]"
   ]
  },
  {
   "cell_type": "markdown",
   "metadata": {},
   "source": [
    "`4.` Use **df2** in the below cells to answer the quiz questions related to **Quiz 4** in the classroom.\n",
    "\n",
    "a. What is the probability of an individual converting regardless of the page they receive?"
   ]
  },
  {
   "cell_type": "code",
   "execution_count": 14,
   "metadata": {
    "collapsed": true
   },
   "outputs": [
    {
     "data": {
      "text/plain": [
       "0.11959708724499628"
      ]
     },
     "execution_count": 14,
     "metadata": {},
     "output_type": "execute_result"
    }
   ],
   "source": [
    "converted = df2[df2.converted == 1]\n",
    "len_converted = len(converted)\n",
    "prob_converted = len_converted / len(df2)\n",
    "prob_converted"
   ]
  },
  {
   "cell_type": "markdown",
   "metadata": {},
   "source": [
    "b. Given that an individual was in the `control` group, what is the probability they converted?"
   ]
  },
  {
   "cell_type": "code",
   "execution_count": 15,
   "metadata": {
    "collapsed": true
   },
   "outputs": [
    {
     "data": {
      "text/plain": [
       "0.1203863045004612"
      ]
     },
     "execution_count": 15,
     "metadata": {},
     "output_type": "execute_result"
    }
   ],
   "source": [
    "converted_control = converted[converted.group =='control']\n",
    "len_control_conv = len(converted_control)\n",
    "control_df = df2[df2.group =='control']\n",
    "len_control = len(control_df)\n",
    "prob_control_conv =  (len_control_conv / len_control)\n",
    "prob_control_conv"
   ]
  },
  {
   "cell_type": "markdown",
   "metadata": {},
   "source": [
    "c. Given that an individual was in the `treatment` group, what is the probability they converted?"
   ]
  },
  {
   "cell_type": "code",
   "execution_count": 16,
   "metadata": {
    "collapsed": true
   },
   "outputs": [
    {
     "data": {
      "text/plain": [
       "0.11880806551510564"
      ]
     },
     "execution_count": 16,
     "metadata": {},
     "output_type": "execute_result"
    }
   ],
   "source": [
    "converted_treatment = converted[converted.group=='treatment']\n",
    "len_treatment_conv = len(converted_treatment)\n",
    "treatment_df = df2[df2.group=='treatment']\n",
    "len_treatment = len(treatment_df)\n",
    "prob_treatment_conv = len_treatment_conv / len_treatment\n",
    "prob_treatment_conv"
   ]
  },
  {
   "cell_type": "markdown",
   "metadata": {},
   "source": [
    "d. What is the probability that an individual received the new page?"
   ]
  },
  {
   "cell_type": "code",
   "execution_count": 17,
   "metadata": {
    "collapsed": true
   },
   "outputs": [
    {
     "data": {
      "text/plain": [
       "0.5000619442226688"
      ]
     },
     "execution_count": 17,
     "metadata": {},
     "output_type": "execute_result"
    }
   ],
   "source": [
    "new_page_df = df2[df2.landing_page == 'new_page']\n",
    "len_new_page = len(new_page_df)\n",
    "prob_new_page = len_new_page / len(df2)\n",
    "prob_new_page"
   ]
  },
  {
   "cell_type": "markdown",
   "metadata": {},
   "source": [
    "e. Consider your results from a. through d. above, and explain below whether you think there is sufficient evidence to say that the new treatment page leads to more conversions."
   ]
  },
  {
   "cell_type": "markdown",
   "metadata": {},
   "source": [
    "According to the data given above, about 50% of the unique users receive the new treatment page. The probability of conversion for the new treatment is approximately equal to that of the old page. So we don't have sufficient evidence to say that the new treatment page leads to more conversions. "
   ]
  },
  {
   "cell_type": "markdown",
   "metadata": {},
   "source": [
    "<a id='ab_test'></a>\n",
    "### Part II - A/B Test\n",
    "\n",
    "Notice that because of the time stamp associated with each event, you could technically run a hypothesis test continuously as each observation was observed.  \n",
    "\n",
    "However, then the hard question is do you stop as soon as one page is considered significantly better than another or does it need to happen consistently for a certain amount of time?  How long do you run to render a decision that neither page is better than another?  \n",
    "\n",
    "These questions are the difficult parts associated with A/B tests in general.  \n",
    "\n",
    "\n",
    "`1.` For now, consider you need to make the decision just based on all the data provided.  If you want to assume that the old page is better unless the new page proves to be definitely better at a Type I error rate of 5%, what should your null and alternative hypotheses be?  You can state your hypothesis in terms of words or in terms of **$p_{old}$** and **$p_{new}$**, which are the converted rates for the old and new pages."
   ]
  },
  {
   "cell_type": "markdown",
   "metadata": {},
   "source": [
    "**Put your answer here.**"
   ]
  },
  {
   "cell_type": "markdown",
   "metadata": {},
   "source": [
    "`2.` Assume under the null hypothesis, $p_{new}$ and $p_{old}$ both have \"true\" success rates equal to the **converted** success rate regardless of page - that is $p_{new}$ and $p_{old}$ are equal. Furthermore, assume they are equal to the **converted** rate in **ab_data.csv** regardless of the page. <br><br>\n",
    "\n",
    "Use a sample size for each page equal to the ones in **ab_data.csv**.  <br><br>\n",
    "\n",
    "Perform the sampling distribution for the difference in **converted** between the two pages over 10,000 iterations of calculating an estimate from the null.  <br><br>\n",
    "\n",
    "Use the cells below to provide the necessary parts of this simulation.  If this doesn't make complete sense right now, don't worry - you are going to work through the problems below to complete this problem.  You can use **Quiz 5** in the classroom to make sure you are on the right track.<br><br>"
   ]
  },
  {
   "cell_type": "markdown",
   "metadata": {},
   "source": [
    "a. What is the **convert rate** for $p_{new}$ under the null? "
   ]
  },
  {
   "cell_type": "code",
   "execution_count": 19,
   "metadata": {
    "collapsed": true
   },
   "outputs": [
    {
     "data": {
      "text/plain": [
       "0.11959708724499628"
      ]
     },
     "execution_count": 19,
     "metadata": {},
     "output_type": "execute_result"
    }
   ],
   "source": [
    "p_new = len(converted) / len(df2)\n",
    "p_new"
   ]
  },
  {
   "cell_type": "markdown",
   "metadata": {},
   "source": [
    "b. What is the **convert rate** for $p_{old}$ under the null? <br><br>"
   ]
  },
  {
   "cell_type": "code",
   "execution_count": 20,
   "metadata": {
    "collapsed": true
   },
   "outputs": [
    {
     "data": {
      "text/plain": [
       "0.11959708724499628"
      ]
     },
     "execution_count": 20,
     "metadata": {},
     "output_type": "execute_result"
    }
   ],
   "source": [
    "p_old = len(converted) / len(df2)\n",
    "p_old"
   ]
  },
  {
   "cell_type": "markdown",
   "metadata": {},
   "source": [
    "c. What is $n_{new}$?"
   ]
  },
  {
   "cell_type": "code",
   "execution_count": 22,
   "metadata": {
    "collapsed": true
   },
   "outputs": [
    {
     "data": {
      "text/plain": [
       "145310"
      ]
     },
     "execution_count": 22,
     "metadata": {},
     "output_type": "execute_result"
    }
   ],
   "source": [
    "n_new = len(df2[df2.landing_page == 'new_page'])\n",
    "n_new"
   ]
  },
  {
   "cell_type": "markdown",
   "metadata": {},
   "source": [
    "d. What is $n_{old}$?"
   ]
  },
  {
   "cell_type": "code",
   "execution_count": 23,
   "metadata": {
    "collapsed": true
   },
   "outputs": [
    {
     "data": {
      "text/plain": [
       "145274"
      ]
     },
     "execution_count": 23,
     "metadata": {},
     "output_type": "execute_result"
    }
   ],
   "source": [
    "n_old = len(df2[df2.landing_page == 'old_page'])\n",
    "n_old"
   ]
  },
  {
   "cell_type": "markdown",
   "metadata": {},
   "source": [
    "e. Simulate $n_{new}$ transactions with a convert rate of $p_{new}$ under the null.  Store these $n_{new}$ 1's and 0's in **new_page_converted**."
   ]
  },
  {
   "cell_type": "code",
   "execution_count": 26,
   "metadata": {
    "collapsed": true
   },
   "outputs": [
    {
     "data": {
      "text/plain": [
       "np.float64(0.8806482692175349)"
      ]
     },
     "execution_count": 26,
     "metadata": {},
     "output_type": "execute_result"
    }
   ],
   "source": [
    "new_page_converted = np.random.choice([0,1], size=n_new, p = [p_new, 1-p_new])\n",
    "new_page_converted.mean()"
   ]
  },
  {
   "cell_type": "markdown",
   "metadata": {},
   "source": [
    "f. Simulate $n_{old}$ transactions with a convert rate of $p_{old}$ under the null.  Store these $n_{old}$ 1's and 0's in **old_page_converted**."
   ]
  },
  {
   "cell_type": "code",
   "execution_count": 27,
   "metadata": {
    "collapsed": true
   },
   "outputs": [
    {
     "data": {
      "text/plain": [
       "np.float64(0.8786224651348487)"
      ]
     },
     "execution_count": 27,
     "metadata": {},
     "output_type": "execute_result"
    }
   ],
   "source": [
    "old_page_converted = np.random.choice([0,1], size=n_old, p = [p_old, 1-p_old])\n",
    "old_page_converted.mean()"
   ]
  },
  {
   "cell_type": "markdown",
   "metadata": {},
   "source": [
    "g. Find $p_{new}$ - $p_{old}$ for your simulated values from part (e) and (f)."
   ]
  },
  {
   "cell_type": "code",
   "execution_count": 30,
   "metadata": {
    "collapsed": true
   },
   "outputs": [
    {
     "data": {
      "text/plain": [
       "0.0020258040826862667"
      ]
     },
     "execution_count": 30,
     "metadata": {},
     "output_type": "execute_result"
    }
   ],
   "source": [
    "sim_diff = float(new_page_converted.mean() - old_page_converted.mean())\n",
    "sim_diff"
   ]
  },
  {
   "cell_type": "markdown",
   "metadata": {},
   "source": [
    "h. Simulate 10,000 $p_{new}$ - $p_{old}$ values using this same process similarly to the one you calculated in parts **a. through g.** above.  Store all 10,000 values in a numpy array called **p_diffs**."
   ]
  },
  {
   "cell_type": "code",
   "execution_count": 31,
   "metadata": {
    "collapsed": true
   },
   "outputs": [
    {
     "data": {
      "text/plain": [
       "[np.float64(0.0005594147558518614),\n",
       " np.float64(-0.0009958876406134243),\n",
       " np.float64(-0.0003762237060703777),\n",
       " np.float64(0.0008555862204687736),\n",
       " np.float64(-0.00011503955666503085),\n",
       " np.float64(-0.0009890228555050617),\n",
       " np.float64(-0.0012300986805776626),\n",
       " np.float64(0.002968807003684182),\n",
       " np.float64(-0.0013948160049952474),\n",
       " np.float64(0.0006354560573330614),\n",
       " np.float64(0.0005596194004801047),\n",
       " np.float64(-0.002978200002638154),\n",
       " np.float64(-8.709779598337075e-05),\n",
       " np.float64(0.00021548994093156804),\n",
       " np.float64(0.00029794580933883985),\n",
       " np.float64(-0.001229605828097835),\n",
       " np.float64(-0.0005415890718108995),\n",
       " np.float64(0.0005735263293746851),\n",
       " np.float64(0.001481877893425687),\n",
       " np.float64(0.0011859571184784645),\n",
       " np.float64(0.0013511024912435943),\n",
       " np.float64(0.0003048088890751366),\n",
       " np.float64(0.0006077598702053377),\n",
       " np.float64(0.0003878786913673604),\n",
       " np.float64(2.1103029865798817e-06),\n",
       " np.float64(-0.0015740558975642083),\n",
       " np.float64(-0.0005829022746095536),\n",
       " np.float64(0.0012337752729141283),\n",
       " np.float64(0.0024044262995948085),\n",
       " np.float64(-0.0009204142279758409),\n",
       " np.float64(0.0006491856275496755),\n",
       " np.float64(-0.000727582900314383),\n",
       " np.float64(-0.00013567313554374572),\n",
       " np.float64(-0.0028746961499799273),\n",
       " np.float64(0.0015370349263585936),\n",
       " np.float64(-0.0004386138844424403),\n",
       " np.float64(-0.002386024199850789),\n",
       " np.float64(0.000642341306904215),\n",
       " np.float64(-0.0009683773390231076),\n",
       " np.float64(-0.0008098938121098298),\n",
       " np.float64(-0.00201477667424943),\n",
       " np.float64(0.0013716525068990792),\n",
       " np.float64(-0.00047981112195172315),\n",
       " np.float64(0.0026105796135880155),\n",
       " np.float64(0.0015093268016275196),\n",
       " np.float64(0.00018088974514185452),\n",
       " np.float64(0.0018329284153554282),\n",
       " np.float64(-0.0001286957958898105),\n",
       " np.float64(-0.0001494828582396801),\n",
       " np.float64(-0.0010098082124831986),\n",
       " np.float64(-0.001216352056642167),\n",
       " np.float64(0.00025674516108553647),\n",
       " np.float64(-1.1844376321179517e-05),\n",
       " np.float64(-0.0003901732692623838),\n",
       " np.float64(-0.00037663981681457237),\n",
       " np.float64(-0.0006657145657444907),\n",
       " np.float64(-0.001147371658038021),\n",
       " np.float64(0.0010964471686817356),\n",
       " np.float64(0.0004429436342174853),\n",
       " np.float64(-0.001381337124448323),\n",
       " np.float64(0.000972497328054156),\n",
       " np.float64(-0.001154053968352664),\n",
       " np.float64(-0.002021285036630016),\n",
       " np.float64(-0.001464067557731874),\n",
       " np.float64(0.0008968533782262034),\n",
       " np.float64(0.0020460931764406665),\n",
       " np.float64(0.000772901832226669),\n",
       " np.float64(0.0002433208524394992),\n",
       " np.float64(0.00044934796891205053),\n",
       " np.float64(0.0010067376903724057),\n",
       " np.float64(0.0016058072695905867),\n",
       " np.float64(0.0014199822729054068),\n",
       " np.float64(0.0017847606596798071),\n",
       " np.float64(-3.905453245656165e-05),\n",
       " np.float64(-0.0019799428425090193),\n",
       " np.float64(-0.0017669997797711279),\n",
       " np.float64(0.001447419243503889),\n",
       " np.float64(-0.0012161508227576112),\n",
       " np.float64(-0.0016841943101238988),\n",
       " np.float64(0.0010002208011322677),\n",
       " np.float64(0.000483755457676871),\n",
       " np.float64(0.001075929555092392),\n",
       " np.float64(0.0004497691957719985),\n",
       " np.float64(0.00033257158570709766),\n",
       " np.float64(0.00034608627906396183),\n",
       " np.float64(-0.0013744672232243182),\n",
       " np.float64(-0.000507306075195002),\n",
       " np.float64(-2.5591000256786067e-05),\n",
       " np.float64(0.000986607196205025),\n",
       " np.float64(0.0007731354681773661),\n",
       " np.float64(0.0002498650276302472),\n",
       " np.float64(-0.0007687221551789802),\n",
       " np.float64(0.0008694112915120789),\n",
       " np.float64(0.0011860270387265004),\n",
       " np.float64(-0.00014269140412326298),\n",
       " np.float64(0.0008554617283199617),\n",
       " np.float64(-0.0009544908745914293),\n",
       " np.float64(0.00044246783545665025),\n",
       " np.float64(-0.0008443950963292757),\n",
       " np.float64(0.0009931479606518634),\n",
       " np.float64(0.0019636987014219898),\n",
       " np.float64(-2.5846806042117976e-05),\n",
       " np.float64(-0.0008510347723464928),\n",
       " np.float64(-0.0013950513463177883),\n",
       " np.float64(-0.0001630913470512807),\n",
       " np.float64(0.00012574464981218725),\n",
       " np.float64(0.0014748971430280644),\n",
       " np.float64(0.00030485493411658293),\n",
       " np.float64(0.0013370591325968517),\n",
       " np.float64(9.84952701230668e-05),\n",
       " np.float64(0.00018105516621635953),\n",
       " np.float64(0.0002704389184922107),\n",
       " np.float64(0.0007042625080031506),\n",
       " np.float64(-0.0002869047579265871),\n",
       " np.float64(0.0022046841417836527),\n",
       " np.float64(0.001743662333740792),\n",
       " np.float64(-0.0011885842438945637),\n",
       " np.float64(0.0003532853170652439),\n",
       " np.float64(-0.00010113262777045051),\n",
       " np.float64(-0.0007411419333407387),\n",
       " np.float64(0.00031184591674571216),\n",
       " np.float64(0.0011997020370422273),\n",
       " np.float64(0.001433710137750066),\n",
       " np.float64(-0.0014844760275194435),\n",
       " np.float64(-0.00036278745982099014),\n",
       " np.float64(-0.0007894171274462902),\n",
       " np.float64(0.0012545418708010958),\n",
       " np.float64(0.00029105032753617976),\n",
       " np.float64(-0.0033704153600110365),\n",
       " np.float64(0.0011447564702252722),\n",
       " np.float64(-0.002668283619457479),\n",
       " np.float64(0.0022940013845554885),\n",
       " np.float64(0.0011787853664276815),\n",
       " np.float64(0.0008279804180519879),\n",
       " np.float64(0.00010513494614028396),\n",
       " np.float64(0.0016262771327666403),\n",
       " np.float64(0.00031862031714313677),\n",
       " np.float64(-0.0004590394079488913),\n",
       " np.float64(-0.0015880378628223557),\n",
       " np.float64(-0.00034888735241411784),\n",
       " np.float64(0.00012586914196122123),\n",
       " np.float64(0.002066707996228323),\n",
       " np.float64(-5.969834356667203e-05),\n",
       " np.float64(0.0009861126383532426),\n",
       " np.float64(-0.0006033908968765545),\n",
       " np.float64(0.000621625870174225),\n",
       " np.float64(0.0005114499394326399),\n",
       " np.float64(0.0001328362493836499),\n",
       " np.float64(-0.0017737400727304564),\n",
       " np.float64(0.001447509628214716),\n",
       " np.float64(-0.00016988621191160735),\n",
       " np.float64(-0.00039728362792468275),\n",
       " np.float64(0.00038071717154808393),\n",
       " np.float64(-0.0015946400206576783),\n",
       " np.float64(-0.00010118549429949386),\n",
       " np.float64(-0.0025717417581060387),\n",
       " np.float64(0.00019470799469734068),\n",
       " np.float64(0.000773080896276479),\n",
       " np.float64(-0.0014086393706664868),\n",
       " np.float64(-0.0009268185626704062),\n",
       " np.float64(0.0004975020816124776),\n",
       " np.float64(0.0020117931261057764),\n",
       " np.float64(-0.0011405119890454118),\n",
       " np.float64(-0.001195339885201041),\n",
       " np.float64(0.00033927777122844116),\n",
       " np.float64(-0.0010580168970844017),\n",
       " np.float64(0.000897056317482714),\n",
       " np.float64(0.0014613926819025957),\n",
       " np.float64(-0.0005418192970177982),\n",
       " np.float64(-0.0006931140181610784),\n",
       " np.float64(-0.0022005829118436626),\n",
       " np.float64(0.00013964987333481282),\n",
       " np.float64(0.00024288257186055873),\n",
       " np.float64(0.0006354083069197713),\n",
       " np.float64(0.0012961705674018331),\n",
       " np.float64(0.00028445328581661045),\n",
       " np.float64(-0.0008856417896238034),\n",
       " np.float64(-0.0004934008516723765),\n",
       " np.float64(-8.742352201673853e-05),\n",
       " np.float64(0.001172190030079956),\n",
       " np.float64(0.00017415456829816822),\n",
       " np.float64(-0.0012300185280983422),\n",
       " np.float64(0.0008003763210070458),\n",
       " np.float64(0.00010525773291725216),\n",
       " np.float64(-0.000658844664520486),\n",
       " np.float64(-0.0005483430077455331),\n",
       " np.float64(7.760588545890901e-05),\n",
       " np.float64(0.0012822295310693788),\n",
       " np.float64(-0.0016154594850738002),\n",
       " np.float64(0.0004633197019389135),\n",
       " np.float64(-0.0004866742016881309),\n",
       " np.float64(0.0004977561820259657),\n",
       " np.float64(-0.0005075516487489384),\n",
       " np.float64(0.0010622102171071734),\n",
       " np.float64(-0.0011886132352169065),\n",
       " np.float64(0.00040141725993092514),\n",
       " np.float64(0.0017779231605219437),\n",
       " np.float64(-0.0010165553269301242),\n",
       " np.float64(0.0004357019619186664),\n",
       " np.float64(0.000910316910425979),\n",
       " np.float64(-0.0013606881972224594),\n",
       " np.float64(-0.0006245804269955357),\n",
       " np.float64(0.0008210815255056403),\n",
       " np.float64(0.0017227439577542913),\n",
       " np.float64(-0.0018011292929157596),\n",
       " np.float64(-0.0013814087500683137),\n",
       " np.float64(0.0008416980506652516),\n",
       " np.float64(-0.00038346196762528706),\n",
       " np.float64(-0.0006791917409194603),\n",
       " np.float64(-0.002111113890972627),\n",
       " np.float64(0.0004908572894796182),\n",
       " np.float64(0.0002911373015033192),\n",
       " np.float64(0.002576332429782058),\n",
       " np.float64(9.834519739571057e-05),\n",
       " np.float64(-0.0003144866851370054),\n",
       " np.float64(-0.0011061164378839416),\n",
       " np.float64(-0.000782612030354457),\n",
       " np.float64(0.0005319607315343866),\n",
       " np.float64(-0.00020440796059384425),\n",
       " np.float64(0.0010826033385475942),\n",
       " np.float64(0.0001878568525642832),\n",
       " np.float64(7.777471727743457e-05),\n",
       " np.float64(-0.0002939844198948105),\n",
       " np.float64(0.0006835504820168481),\n",
       " np.float64(-0.0007340128155874925),\n",
       " np.float64(-0.00012177984962435939),\n",
       " np.float64(-0.000520987894998326),\n",
       " np.float64(3.648538968525905e-05),\n",
       " np.float64(-0.0008100711707876851),\n",
       " np.float64(-0.0020351919655244854),\n",
       " np.float64(-0.0018974784472423067),\n",
       " np.float64(-0.0024896815359801705),\n",
       " np.float64(0.0013784712469659954),\n",
       " np.float64(0.0008965719918622161),\n",
       " np.float64(-0.0005277554739082646),\n",
       " np.float64(0.0011997071531578696),\n",
       " np.float64(0.0008348844267140887),\n",
       " np.float64(0.0007248909707660012),\n",
       " np.float64(-0.00014254133139579572),\n",
       " np.float64(-0.0004729480422154264),\n",
       " np.float64(0.0003873005702923482),\n",
       " np.float64(-0.0001630367751502826),\n",
       " np.float64(0.0013237115656864473),\n",
       " np.float64(-0.00021141088082621273),\n",
       " np.float64(-0.000789577432405042),\n",
       " np.float64(0.0013441763127467476),\n",
       " np.float64(-3.219656883590716e-05),\n",
       " np.float64(0.0005457823918336713),\n",
       " np.float64(0.0017778873477118928),\n",
       " np.float64(0.0012204805725326562),\n",
       " np.float64(0.0010965392587645173),\n",
       " np.float64(-0.0010576297776625498),\n",
       " np.float64(0.0005390028753204934),\n",
       " np.float64(0.0013509814098384698),\n",
       " np.float64(0.0012342135534930687),\n",
       " np.float64(-0.0011471874778724578),\n",
       " np.float64(-0.0009616592158983028),\n",
       " np.float64(0.0006007808251795588),\n",
       " np.float64(-0.0006862287685900359),\n",
       " np.float64(0.0004562724420369424),\n",
       " np.float64(0.0010551203229077766),\n",
       " np.float64(-0.0014365231487035723),\n",
       " np.float64(-0.0019386876223549399),\n",
       " np.float64(0.00043576847142290376),\n",
       " np.float64(0.0005181970538796765),\n",
       " np.float64(0.00023620367228971428),\n",
       " np.float64(0.0014817005347478318),\n",
       " np.float64(-0.00017010279414320095),\n",
       " np.float64(-0.00010811678891198273),\n",
       " np.float64(-0.0014708334312698579),\n",
       " np.float64(-0.0003491670334061503),\n",
       " np.float64(0.0003737671178446478),\n",
       " np.float64(0.000545908589354438),\n",
       " np.float64(0.00013294709855737885),\n",
       " np.float64(0.0015923505588784082),\n",
       " np.float64(0.001082707366233726),\n",
       " np.float64(0.0007934893660639375),\n",
       " np.float64(-0.001993749154461266),\n",
       " np.float64(0.0009038511823429296),\n",
       " np.float64(0.0005320596431046543),\n",
       " np.float64(0.001495643276452241),\n",
       " np.float64(-0.0021041246137154523),\n",
       " np.float64(0.0022319727450267335),\n",
       " np.float64(4.316087851230499e-05),\n",
       " np.float64(-0.00205553051506413),\n",
       " np.float64(-0.001291758959775513),\n",
       " np.float64(-0.0008032439038612171),\n",
       " np.float64(-0.0004589541393538177),\n",
       " np.float64(0.0007111341145989991),\n",
       " np.float64(-0.0003214043367741892),\n",
       " np.float64(0.00014685402745184817),\n",
       " np.float64(-0.001925053552964906),\n",
       " np.float64(-0.0008308002504929801),\n",
       " np.float64(-0.00028697808891842147),\n",
       " np.float64(0.0023006632304073404),\n",
       " np.float64(-0.0013741363810751972),\n",
       " np.float64(-0.00105805612063814),\n",
       " np.float64(-0.00033529250657771126),\n",
       " np.float64(-9.405467117440391e-05),\n",
       " np.float64(-0.0007066781673031874),\n",
       " np.float64(-0.0003556446990924389),\n",
       " np.float64(0.0003600597174626685),\n",
       " np.float64(-0.001009426209176989),\n",
       " np.float64(0.0015439048275825984),\n",
       " np.float64(-0.0005280624408506851),\n",
       " np.float64(0.0007934006867249543),\n",
       " np.float64(0.0008763783989345075),\n",
       " np.float64(0.0014612016802495464),\n",
       " np.float64(0.0014268504687575678),\n",
       " np.float64(0.0027619868892770905),\n",
       " np.float64(-0.0006242785761687575),\n",
       " np.float64(-0.0013606540897844743),\n",
       " np.float64(0.0013374718325972479),\n",
       " np.float64(-0.0010233672455094434),\n",
       " np.float64(-0.0016152974747429827),\n",
       " np.float64(-0.00023195236962214594),\n",
       " np.float64(-0.0014842850258662832),\n",
       " np.float64(0.0008763323538931722),\n",
       " np.float64(0.002369638512895733),\n",
       " np.float64(0.001054985598527458),\n",
       " np.float64(0.002204607400048131),\n",
       " np.float64(-0.00237918499532086),\n",
       " np.float64(0.001901881528009075),\n",
       " np.float64(-0.002234860792343807),\n",
       " np.float64(-6.697241793163222e-05),\n",
       " np.float64(0.001296027316162074),\n",
       " np.float64(-0.002345009437134893),\n",
       " np.float64(0.0026517086362212172),\n",
       " np.float64(-0.0006519270128830801),\n",
       " np.float64(-1.864094655323889e-05),\n",
       " np.float64(-5.296146135103097e-05),\n",
       " np.float64(-0.0016427122755068302),\n",
       " np.float64(9.843728747838121e-05),\n",
       " np.float64(-0.0015532330224042878),\n",
       " np.float64(0.00042890027557085375),\n",
       " np.float64(0.0004012279636497196),\n",
       " np.float64(0.001846646047968692),\n",
       " np.float64(0.00012611642088700137),\n",
       " np.float64(0.0009794286226666449),\n",
       " np.float64(0.000593917745443151),\n",
       " np.float64(0.001977600514200706),\n",
       " np.float64(-0.00016307429333217716),\n",
       " np.float64(0.0008624510055771362),\n",
       " np.float64(0.0007933171235017245),\n",
       " np.float64(0.0017226723321345228),\n",
       " np.float64(0.0008210593556708945),\n",
       " np.float64(0.0007383408599905827),\n",
       " np.float64(-0.0003693401618711789),\n",
       " np.float64(-0.0005278680284538373),\n",
       " np.float64(0.0005183403051195468),\n",
       " np.float64(-0.0002389774596892602),\n",
       " np.float64(-0.001429525344586735),\n",
       " np.float64(-1.8395372999302495e-05),\n",
       " np.float64(-0.0006723883491996929),\n",
       " np.float64(0.0010753548447612893),\n",
       " np.float64(3.657236365228744e-05),\n",
       " np.float64(-0.0003282316037006572),\n",
       " np.float64(0.0005113356795152235),\n",
       " np.float64(-0.0005759198188399761),\n",
       " np.float64(0.0020254459545867576),\n",
       " np.float64(0.0008141553470087937),\n",
       " np.float64(7.769285942604842e-05),\n",
       " np.float64(0.0007454188165867404),\n",
       " np.float64(0.0015026052677591384),\n",
       " np.float64(-0.0009958296579687387),\n",
       " np.float64(0.00020861662896365374),\n",
       " np.float64(0.0015711166890899353),\n",
       " np.float64(0.0032299911530895287),\n",
       " np.float64(-0.0007689046299726998),\n",
       " np.float64(0.0014267208604928916),\n",
       " np.float64(-0.0014502987639615217),\n",
       " np.float64(0.0004702663448984401),\n",
       " np.float64(0.00018814847115966593),\n",
       " np.float64(0.00034600271584073194),\n",
       " np.float64(-0.00015620268673632864),\n",
       " np.float64(0.0011859622345942178),\n",
       " np.float64(0.002238880164432522),\n",
       " np.float64(0.0007249233728322535),\n",
       " np.float64(0.0005731119240023341),\n",
       " np.float64(-0.00017672200569762708),\n",
       " np.float64(-0.0008927726127490043),\n",
       " np.float64(0.0013164767148752254),\n",
       " np.float64(-0.0009340363597625245),\n",
       " np.float64(0.0005940285946167689),\n",
       " np.float64(0.0019911885385494044),\n",
       " np.float64(-0.00019748860358459464),\n",
       " np.float64(-0.002303413142600408),\n",
       " np.float64(0.0030992038133039745),\n",
       " np.float64(0.000614757674322064),\n",
       " np.float64(0.0012617971860751087),\n",
       " np.float64(-0.0011542381485182274),\n",
       " np.float64(-0.0006653751967358179),\n",
       " np.float64(-0.0010511930409018433),\n",
       " np.float64(0.000648774632921234),\n",
       " np.float64(0.0011583103871358746),\n",
       " np.float64(0.0005180452757803655),\n",
       " np.float64(-0.0004724483682478908),\n",
       " np.float64(0.00027757997384880717),\n",
       " np.float64(0.0015094240078260546),\n",
       " np.float64(0.00035312842285017965),\n",
       " np.float64(-0.002000707735024143),\n",
       " np.float64(-0.0009958262472248292),\n",
       " np.float64(-0.002537508217275386),\n",
       " np.float64(-0.0007824790113460933),\n",
       " np.float64(-0.001897580769556484),\n",
       " np.float64(0.0006422287523586423),\n",
       " np.float64(0.0008967953955814068),\n",
       " np.float64(0.001509379668156563),\n",
       " np.float64(0.002177057874903965),\n",
       " np.float64(0.0007524507281415627),\n",
       " np.float64(-0.0006721973475465326),\n",
       " np.float64(-0.0008168728571357198),\n",
       " np.float64(0.00013276973987952356),\n",
       " np.float64(-0.0003418776106940413),\n",
       " np.float64(0.0005527426777685029),\n",
       " np.float64(-0.0018493055754509324),\n",
       " np.float64(-0.001415609888832714),\n",
       " np.float64(-0.0002043005221639138),\n",
       " np.float64(-0.0009407595990029716),\n",
       " np.float64(-0.0006102403336377682),\n",
       " np.float64(0.00018118477448092474),\n",
       " np.float64(0.0015644633700976351),\n",
       " np.float64(0.0006561731994350062),\n",
       " np.float64(-0.00017667425528422598),\n",
       " np.float64(-0.0008721441499859317),\n",
       " np.float64(-0.0015946451367733205),\n",
       " np.float64(-0.000575989739088012),\n",
       " np.float64(-0.00036257769907699355),\n",
       " np.float64(-0.0022279039171527737),\n",
       " np.float64(0.0011582899226730836),\n",
       " np.float64(0.0003187601576390975),\n",
       " np.float64(0.00025686965323457045),\n",
       " np.float64(0.00027068278667441437),\n",
       " np.float64(0.0010899029934910986),\n",
       " np.float64(-0.0011404045506154814),\n",
       " np.float64(0.0009656018462514959),\n",
       " np.float64(0.0003805108215477748),\n",
       " np.float64(0.00031850094110996707),\n",
       " np.float64(0.001213412848167894),\n",
       " np.float64(7.771332388883945e-05),\n",
       " np.float64(0.0005182976708218989),\n",
       " np.float64(0.001117229114915963),\n",
       " np.float64(0.00020853988722813188),\n",
       " np.float64(-2.5295970917604826e-05),\n",
       " np.float64(-0.0007685618502202285),\n",
       " np.float64(0.0005664807748446687),\n",
       " np.float64(6.417816606918425e-05),\n",
       " np.float64(-0.001002619406713312),\n",
       " np.float64(-0.00030049619301919517),\n",
       " np.float64(-6.671490677423453e-05),\n",
       " np.float64(0.0017846600427374737),\n",
       " np.float64(0.001571456058098497),\n",
       " np.float64(-0.0020762715323725534),\n",
       " np.float64(2.2740471121496242e-05),\n",
       " np.float64(0.0006077325842548387),\n",
       " np.float64(0.0002567229912509017),\n",
       " np.float64(0.001089452775308808),\n",
       " np.float64(-0.0015532210848009376),\n",
       " np.float64(0.0007247050852285941),\n",
       " np.float64(0.000649374923830881),\n",
       " np.float64(-0.00019070738169957302),\n",
       " np.float64(-0.0008100950459943856),\n",
       " np.float64(0.0017226177602336357),\n",
       " np.float64(-0.0003214981322288146),\n",
       " np.float64(0.00044257697925842443),\n",
       " np.float64(0.001722876976762877),\n",
       " np.float64(0.0002499127780435373),\n",
       " np.float64(0.0022595359131459825),\n",
       " np.float64(0.001571394664710124),\n",
       " np.float64(-0.0011199346874395388),\n",
       " np.float64(0.0005662897731915084),\n",
       " np.float64(-0.0010922794292373972),\n",
       " np.float64(0.0014611181170263166),\n",
       " np.float64(0.0004838970035447865),\n",
       " np.float64(0.0017638303460900673),\n",
       " np.float64(0.0013648712850139466),\n",
       " np.float64(-0.00047948027980271313),\n",
       " np.float64(0.0021014599701174586),\n",
       " np.float64(-0.001353871162527498),\n",
       " np.float64(-0.001147276157211441),\n",
       " np.float64(0.0016470522575131596),\n",
       " np.float64(-0.0016084446272380815),\n",
       " np.float64(0.0014267140390052946),\n",
       " np.float64(-0.0005070008136243143),\n",
       " np.float64(-6.679505925377693e-05),\n",
       " np.float64(-0.0014984221799676511),\n",
       " np.float64(0.0015370212833833996),\n",
       " np.float64(-0.00032123721032772945),\n",
       " np.float64(0.0002291939305697488),\n",
       " np.float64(0.001213675475440934),\n",
       " np.float64(0.00022904556321412528),\n",
       " np.float64(-0.0010301911016921128),\n",
       " np.float64(-0.0009203016734301572),\n",
       " np.float64(0.00022936787850369456),\n",
       " np.float64(0.00010527137589244617),\n",
       " np.float64(-0.00046572342363560004),\n",
       " np.float64(0.0014406636021974117),\n",
       " np.float64(0.0028723231249774273),\n",
       " np.float64(-0.000913172555677022),\n",
       " np.float64(-0.002613128291896527),\n",
       " np.float64(-0.000947576633698044),\n",
       " np.float64(0.0010482742968903613),\n",
       " np.float64(-0.001429457129710654),\n",
       " np.float64(-0.000638018378616767),\n",
       " np.float64(-0.002090543410854351),\n",
       " np.float64(-0.0017395167641311993),\n",
       " np.float64(0.0003118442113737574),\n",
       " np.float64(0.000999976932950175),\n",
       " np.float64(-0.003404945635552825),\n",
       " np.float64(-0.00047950074426550415),\n",
       " np.float64(0.0006631437176012334),\n",
       " np.float64(0.002080838328842094),\n",
       " np.float64(0.0014130816749872155),\n",
       " np.float64(0.0012341811514268164),\n",
       " np.float64(-0.0005964817720988114),\n",
       " np.float64(-0.0028887906697836474),\n",
       " np.float64(-0.0011749859873143587),\n",
       " np.float64(0.002644889896154301),\n",
       " np.float64(0.0002635417313178179),\n",
       " np.float64(-6.674730884048685e-05),\n",
       " np.float64(8.68346949955967e-06),\n",
       " np.float64(-0.0007341492453396548),\n",
       " np.float64(-0.00024566147537596894),\n",
       " np.float64(0.0015642757791882733),\n",
       " np.float64(-0.002000687270561352),\n",
       " np.float64(-0.0010300052161547057),\n",
       " np.float64(0.0011170875690480475),\n",
       " np.float64(-1.8487463082084155e-05),\n",
       " np.float64(0.0010689010542814792),\n",
       " np.float64(0.0021564191799097188),\n",
       " np.float64(0.001743675976716097),\n",
       " np.float64(0.0008623469778910042),\n",
       " np.float64(-0.0002527667179226256),\n",
       " np.float64(0.0007248722116750539),\n",
       " np.float64(-0.001498299393190683),\n",
       " np.float64(0.002225162531819258),\n",
       " np.float64(0.000828096383341359),\n",
       " np.float64(-0.0016498345717723684),\n",
       " np.float64(0.00042876896193422276),\n",
       " np.float64(0.0008212674110429363),\n",
       " np.float64(-0.001229798535122839),\n",
       " np.float64(0.001123993283081992),\n",
       " np.float64(-0.001222923517783081),\n",
       " np.float64(-0.0015672269252657856),\n",
       " np.float64(-0.0012229149909236403),\n",
       " np.float64(0.0008281987056555362),\n",
       " np.float64(0.0010483697977169415),\n",
       " np.float64(-0.0011609102266014748),\n",
       " np.float64(0.0006144984577929336),\n",
       " np.float64(-0.0018495033985915788),\n",
       " np.float64(0.001413132836144193),\n",
       " np.float64(0.0006972936952087672),\n",
       " np.float64(-0.0009684950096843226),\n",
       " np.float64(-0.0011745067778097251),\n",
       " np.float64(0.0019566463254042654),\n",
       " np.float64(0.0022180419409255636),\n",
       " np.float64(0.0021562963931326395),\n",
       " np.float64(0.002115201477937534),\n",
       " np.float64(-0.0021178115496344185),\n",
       " np.float64(0.0010277856746233605),\n",
       " np.float64(-0.002165796830516542),\n",
       " np.float64(-0.0004247547059612611),\n",
       " np.float64(0.003856359567782075),\n",
       " np.float64(0.0005734086587134701),\n",
       " np.float64(0.00018769143148977818),\n",
       " np.float64(-0.0028199825137418255),\n",
       " np.float64(-2.5350542818491917e-05),\n",
       " np.float64(0.0019913113253263726),\n",
       " np.float64(-0.0006516490372630024),\n",
       " np.float64(-0.00118134086622379),\n",
       " np.float64(-0.0006517871723871194),\n",
       " np.float64(0.0021840931972026967),\n",
       " np.float64(-0.0001216024909465041),\n",
       " np.float64(-0.00036954480649942223),\n",
       " np.float64(-0.0020147050486295504),\n",
       " np.float64(-0.0007688466473280142),\n",
       " np.float64(0.0005664415512909304),\n",
       " np.float64(-0.00019741186184907278),\n",
       " np.float64(0.002789802452437873),\n",
       " np.float64(-0.002475762669482462),\n",
       " np.float64(0.0005253108232857739),\n",
       " np.float64(-0.0009751568555361745),\n",
       " np.float64(0.0009451575636540976),\n",
       " np.float64(0.0016952490045111235),\n",
       " np.float64(-0.001842336762656549),\n",
       " np.float64(-0.0003142035934010634),\n",
       " np.float64(-0.0020555543902707196),\n",
       " np.float64(0.00031857086135800294),\n",
       " np.float64(0.0021289600394764907),\n",
       " np.float64(0.0002085432979720414),\n",
       " np.float64(0.002149540751826051),\n",
       " np.float64(-0.0003213617024766524),\n",
       " np.float64(-0.00025255866255036175),\n",
       " np.float64(-0.0008097693199610179),\n",
       " np.float64(-0.00019736581680762644),\n",
       " np.float64(0.0014334440997333386),\n",
       " np.float64(0.0012410339989318286),\n",
       " np.float64(-0.0005762131428073136),\n",
       " np.float64(-0.0006173728621348129),\n",
       " np.float64(-0.0010924499664277665),\n",
       " np.float64(-0.0009546852869883882),\n",
       " np.float64(0.0017917772228874806),\n",
       " np.float64(0.0010070207821082366),\n",
       " np.float64(0.0013720873767342212),\n",
       " np.float64(-0.0001699169086057939),\n",
       " np.float64(-0.0002387318861353238),\n",
       " np.float64(0.0013235734305623303),\n",
       " np.float64(-0.0005968535431736255),\n",
       " np.float64(0.0003876007157472827),\n",
       " np.float64(0.0012617033906204833),\n",
       " np.float64(2.273023889010073e-05),\n",
       " np.float64(-0.0007410737184646576),\n",
       " np.float64(0.0006007688875763195),\n",
       " np.float64(0.0016814443979308313),\n",
       " np.float64(0.0007246471025840195),\n",
       " np.float64(-0.0029715057547202717),\n",
       " np.float64(-0.0006929008466732833),\n",
       " np.float64(-0.002537625887936601),\n",
       " np.float64(0.0006010008181550619),\n",
       " np.float64(0.001440510118726035),\n",
       " np.float64(-0.00023874552911051783),\n",
       " np.float64(0.0010689283402318672),\n",
       " np.float64(0.00015373927702300172),\n",
       " np.float64(-0.00147750721472506),\n",
       " np.float64(-0.00027339347531363245),\n",
       " np.float64(7.081443134249188e-05),\n",
       " np.float64(-0.0025928255551669332),\n",
       " np.float64(-0.0006585291707184027),\n",
       " np.float64(0.0004908589948514619),\n",
       " np.float64(0.0010001321217932846),\n",
       " np.float64(0.0013717769990478912),\n",
       " np.float64(-0.00048648149466323787),\n",
       " np.float64(9.170040526285117e-05),\n",
       " np.float64(-0.0009962082505311498),\n",
       " np.float64(5.7064396663086825e-05),\n",
       " np.float64(0.003051059932835054),\n",
       " np.float64(-0.0007345602399683182),\n",
       " np.float64(-0.0004520126125099333),\n",
       " np.float64(-0.0020558374820065506),\n",
       " np.float64(0.0028033819499271306),\n",
       " np.float64(-0.0014638936097978172),\n",
       " np.float64(0.0017023082020163338),\n",
       " np.float64(0.0002914186878671954),\n",
       " np.float64(-0.0006104654427289136),\n",
       " np.float64(-0.001560230826521014),\n",
       " np.float64(0.0012203083299704431),\n",
       " np.float64(-0.0008995640668654215),\n",
       " np.float64(-0.0015604337657774137),\n",
       " np.float64(-0.0006449189765350694),\n",
       " np.float64(-0.0002318022968947897),\n",
       " np.float64(0.0008555180055926925),\n",
       " np.float64(-0.0014226076929495513),\n",
       " np.float64(-0.00011489118930951836),\n",
       " np.float64(0.00126823562820777),\n",
       " np.float64(0.0009587268289117379),\n",
       " np.float64(0.00041498481981683266),\n",
       " np.float64(0.003126853955390363),\n",
       " np.float64(0.0011583717805244698),\n",
       " np.float64(-0.0004795143872408092),\n",
       " np.float64(0.0012549869728677443),\n",
       " np.float64(0.0006079218805361553),\n",
       " np.float64(-0.0010371309231641535),\n",
       " np.float64(-0.0006106240423158216),\n",
       " np.float64(-0.001463625866409135),\n",
       " np.float64(0.0008418515341365174),\n",
       " np.float64(-9.437869183581693e-05),\n",
       " np.float64(0.00040145648348466345),\n",
       " np.float64(-0.0005210202970644673),\n",
       " np.float64(0.0006836255183805262),\n",
       " np.float64(-0.002193414570536678),\n",
       " np.float64(0.0005874281421535121),\n",
       " np.float64(0.0003805943847710047),\n",
       " np.float64(0.0011446694962582438),\n",
       " np.float64(-0.001188816174473195),\n",
       " np.float64(0.0007043290175072769),\n",
       " np.float64(0.0007248057021709275),\n",
       " np.float64(-0.0002870360715632181),\n",
       " np.float64(-4.5989237812849026e-05),\n",
       " np.float64(0.0015990925572096915),\n",
       " np.float64(0.0014541748848103664),\n",
       " np.float64(-0.0007136299263785784),\n",
       " np.float64(0.0014819580459051185),\n",
       " np.float64(0.002053490037582484),\n",
       " np.float64(0.0010894919988625462),\n",
       " np.float64(-0.001732367181915273),\n",
       " np.float64(-0.0031707448278199823),\n",
       " np.float64(-0.0018424305581111744),\n",
       " np.float64(-0.001050816153711276),\n",
       " np.float64(0.0011173194996267899),\n",
       " np.float64(0.0023008133031346967),\n",
       " np.float64(0.0007454819153471792),\n",
       " np.float64(0.001206648680001865),\n",
       " np.float64(0.0005185193691692458),\n",
       " np.float64(0.002404305218189684),\n",
       " np.float64(-0.001339851679087456),\n",
       " np.float64(-0.002090432561680622),\n",
       " np.float64(0.000497629984505199),\n",
       " np.float64(0.0015712394758669035),\n",
       " np.float64(-0.0005623181515160836),\n",
       " np.float64(0.0008208257197203084),\n",
       " np.float64(0.00043557064828225744),\n",
       " np.float64(0.002514273093559116),\n",
       " np.float64(-0.0006859780789203462),\n",
       " np.float64(0.0003049214436207093),\n",
       " np.float64(-0.002606405052656191),\n",
       " np.float64(-0.0009129525627015189),\n",
       " np.float64(-2.5371007281393965e-05),\n",
       " np.float64(-0.0002249767353401655),\n",
       " np.float64(-0.0024759570818793097),\n",
       " np.float64(0.0006214041718267671),\n",
       " np.float64(0.0005319829013690214),\n",
       " np.float64(-0.002991963680292864),\n",
       " np.float64(0.002066803497055014),\n",
       " np.float64(-0.0016361646895723947),\n",
       " np.float64(-0.0002319608964816977),\n",
       " np.float64(-0.0021590821181356468),\n",
       " np.float64(0.0002499758768038651),\n",
       " np.float64(0.0010553130299327806),\n",
       " np.float64(-0.0001491622483220656),\n",
       " np.float64(0.000628521351976663),\n",
       " np.float64(0.0015780462783305804),\n",
       " np.float64(-0.0015395665509480017),\n",
       " np.float64(-0.0013263096997800927),\n",
       " np.float64(-0.0002453374547144449),\n",
       " np.float64(-0.0020626033555445344),\n",
       " np.float64(-0.0015465029616763548),\n",
       " np.float64(-0.0018355077903582373),\n",
       " np.float64(0.001605391158846281),\n",
       " np.float64(-0.0007827194687843875),\n",
       " np.float64(9.168164617190389e-05),\n",
       " np.float64(0.0006078894784699029),\n",
       " np.float64(0.0011860389763297396),\n",
       " np.float64(0.0013922144601578035),\n",
       " np.float64(0.001007204962273689),\n",
       " np.float64(0.0008898675117128274),\n",
       " np.float64(-0.0012160996616004116),\n",
       " np.float64(-3.220509569545893e-05),\n",
       " np.float64(-0.0006927507739458161),\n",
       " np.float64(0.0012134418394902369),\n",
       " np.float64(-0.0005346390181074634),\n",
       " np.float64(0.0005940030140382246),\n",
       " np.float64(-0.0008720162470933213),\n",
       " np.float64(-0.0016566805977896726),\n",
       " np.float64(-0.0005415958932983855),\n",
       " np.float64(0.000222475807444944),\n",
       " np.float64(-0.0004796184149268301),\n",
       " np.float64(-0.0003143093264590391),\n",
       " np.float64(-0.0001289277264686639),\n",
       " np.float64(-0.0013882922942675124),\n",
       " np.float64(-0.0006654451169838538),\n",
       " np.float64(0.0013854690510826106),\n",
       " np.float64(0.00031160716467926175),\n",
       " np.float64(-0.00020450516679226816),\n",
       " np.float64(0.0005939535582530908),\n",
       " np.float64(0.0014337902902294974),\n",
       " np.float64(0.0005180930261935446),\n",
       " np.float64(0.0009105982967898552),\n",
       " np.float64(-0.00044517511335206983),\n",
       " np.float64(0.001839562975256892),\n",
       " np.float64(1.5739256261082524e-05),\n",
       " np.float64(0.000552611364132094),\n",
       " np.float64(0.0010069934961577376),\n",
       " np.float64(-0.0009132816994787962),\n",
       " np.float64(0.00016022888031275162),\n",
       " np.float64(0.0006972442394235223),\n",
       " np.float64(0.0012960426645092227),\n",
       " np.float64(0.001357745578004499),\n",
       " np.float64(-0.0005692562676161694),\n",
       " np.float64(0.0005941462652780949),\n",
       " np.float64(0.0006559651440628533),\n",
       " np.float64(-0.0017737554210776052),\n",
       " np.float64(0.0005736764021020413),\n",
       " np.float64(0.0007383152794120384),\n",
       " np.float64(-0.0020283425287633827),\n",
       " np.float64(0.0003326960778559096),\n",
       " np.float64(-0.0001080161719696493),\n",
       " np.float64(0.0022873054312654295),\n",
       " np.float64(-0.000775743834502407),\n",
       " np.float64(-0.0014225991660899995),\n",
       " np.float64(0.0007251570087828396),\n",
       " np.float64(-0.0029781556629686623),\n",
       " np.float64(-0.0025029216644607555),\n",
       " np.float64(0.0005321551439312344),\n",
       " np.float64(-0.00207641307824058),\n",
       " np.float64(0.0009243056971718344),\n",
       " np.float64(0.002404022126453853),\n",
       " np.float64(-3.923700725017021e-05),\n",
       " np.float64(-0.0016978641923239834),\n",
       " np.float64(-0.0012091973583102655),\n",
       " np.float64(0.0002359973222895162),\n",
       " np.float64(-0.0007206089714043573),\n",
       " np.float64(-0.0004314779452017081),\n",
       " np.float64(0.0015300661135642102),\n",
       " np.float64(-0.0013469518055182483),\n",
       " np.float64(-0.0018081731420738212),\n",
       " np.float64(-0.0005691880527400883),\n",
       " np.float64(-0.00047273657609947506),\n",
       " np.float64(0.0005597660624637735),\n",
       " np.float64(0.00012619316262274527),\n",
       " np.float64(-0.0023927116262810744),\n",
       " np.float64(-0.0011610432456099495),\n",
       " np.float64(-0.0007065553805262192),\n",
       " np.float64(-0.00043815855014450733),\n",
       " np.float64(-0.001422602576833798),\n",
       " np.float64(-0.0011475882402696147),\n",
       " np.float64(9.859929780908772e-05),\n",
       " np.float64(-0.0006588020302229491),\n",
       " np.float64(-0.002083473981117745),\n",
       " np.float64(0.0011655571755504468),\n",
       " np.float64(-0.0010994784672386793),\n",
       " np.float64(0.0017090502003477281),\n",
       " np.float64(-0.0007413482833409368),\n",
       " np.float64(-0.0010029246682838888),\n",
       " np.float64(-0.001512139812581026),\n",
       " np.float64(0.0006148565858923316),\n",
       " np.float64(-0.001484314017188626),\n",
       " np.float64(0.001061923714627544),\n",
       " np.float64(0.0006627685357826207),\n",
       " np.float64(-0.0008029505798941017),\n",
       " np.float64(0.0019295998849715446),\n",
       " np.float64(0.0025280282443543856),\n",
       " np.float64(0.002300770668837271),\n",
       " np.float64(0.00041526620618070886),\n",
       " np.float64(-0.002041717381624286),\n",
       " np.float64(-0.00023843515142429883),\n",
       " np.float64(0.0004218410780656434),\n",
       " np.float64(0.00032557378159048245),\n",
       " np.float64(-0.000307690114904724),\n",
       " np.float64(0.0013580661879222244),\n",
       " np.float64(-0.0009753529733050881),\n",
       " np.float64(0.0012894814355994821),\n",
       " np.float64(-8.726833317362903e-05),\n",
       " np.float64(-3.893515642339196e-05),\n",
       " np.float64(0.0014475710216032),\n",
       " np.float64(7.793502223618631e-05),\n",
       " np.float64(-0.001959442282638668),\n",
       " np.float64(0.0013581054114760738),\n",
       " np.float64(0.00112436675952865),\n",
       " np.float64(0.0006762934613709914),\n",
       " np.float64(-0.0002320990316058147),\n",
       " np.float64(0.00033232942289695977),\n",
       " np.float64(-0.0005897687650897598),\n",
       " np.float64(-0.0005139764479064057),\n",
       " np.float64(-0.0003284908202297876),\n",
       " np.float64(-0.0003625981635397846),\n",
       " np.float64(0.0006904272047284499),\n",
       " np.float64(0.0009931684251146544),\n",
       " np.float64(-5.301603325202908e-05),\n",
       " np.float64(0.001144475083861396),\n",
       " np.float64(-0.0006106973733076559),\n",
       " np.float64(-0.0013259379287052786),\n",
       " np.float64(-0.0006172671290767262),\n",
       " np.float64(-0.0004175369088690317),\n",
       " np.float64(-0.00040375788286728387),\n",
       " np.float64(0.001412899200193496),\n",
       " np.float64(8.896640987465787e-06),\n",
       " np.float64(-0.0014294673619421605),\n",
       " np.float64(-0.002324314464867805),\n",
       " np.float64(-0.0015048469791251184),\n",
       " np.float64(0.001020712834142956),\n",
       " np.float64(0.000683482267140767),\n",
       " np.float64(-0.0007824687791146978),\n",
       " np.float64(-0.0007066628189560387),\n",
       " np.float64(-0.0005759334618152812),\n",
       " np.float64(-0.00047295997981866567),\n",
       " np.float64(-8.071733649539503e-05),\n",
       " np.float64(-0.00010118208355569536),\n",
       " np.float64(-0.001147400649360364),\n",
       " np.float64(-0.00013558957232051583),\n",
       " np.float64(-0.0018490821717316308),\n",
       " np.float64(0.0008416213089296187),\n",
       " np.float64(0.0007660131719117169),\n",
       " np.float64(0.0006078877730980592),\n",
       " np.float64(0.002796709871843883),\n",
       " np.float64(0.001481836964500105),\n",
       " np.float64(0.0015716555866112092),\n",
       " np.float64(0.0027139828493040197),\n",
       " np.float64(0.0021287758593109274),\n",
       " np.float64(-0.00017681239040834296),\n",
       " np.float64(-0.0002044062552218895),\n",
       " np.float64(0.0004838560746190934),\n",
       " np.float64(0.0002842998023454557),\n",
       " np.float64(0.0008760287976944392),\n",
       " np.float64(0.0006145530296938206),\n",
       " np.float64(0.001323547849983786),\n",
       " np.float64(-0.0014295850326033754),\n",
       " np.float64(-0.00044536952574902866),\n",
       " np.float64(-5.9974613814905986e-05),\n",
       " np.float64(-0.0005003594322352534),\n",
       " np.float64(9.147018005595253e-05),\n",
       " np.float64(0.0014131345415160368),\n",
       " np.float64(0.0014132112832517807),\n",
       " np.float64(0.0013852763440577176),\n",
       " np.float64(0.0008831425671005366),\n",
       " np.float64(-0.0014291757433467778),\n",
       " np.float64(-0.001154316595625704),\n",
       " np.float64(0.0006283644577615988),\n",
       " np.float64(-0.0008030938311338609),\n",
       " np.float64(0.0005803911144829366),\n",
       " np.float64(0.00020869848681503989),\n",
       " np.float64(0.0002842384089569716),\n",
       " np.float64(-0.0001697583090188859),\n",
       " np.float64(-0.00029402534882039255),\n",
       " np.float64(-0.0008717843165145789),\n",
       " np.float64(6.412871028405043e-05),\n",
       " np.float64(0.0008074457507436517),\n",
       " np.float64(0.0010344355828719731),\n",
       " np.float64(0.00015338455966718012),\n",
       " np.float64(-0.0016429220362507158),\n",
       " np.float64(-0.000403998340305467),\n",
       " np.float64(0.0002636747503261816),\n",
       " np.float64(0.00018780057529155236),\n",
       " np.float64(0.0004907515564216425),\n",
       " np.float64(0.0005800926743999568),\n",
       " np.float64(0.0010414282708730571),\n",
       " np.float64(-0.0002733815377102822),\n",
       " np.float64(-0.0015187436757881922),\n",
       " np.float64(0.0004700821647329878),\n",
       " np.float64(-0.000768855174187566),\n",
       " np.float64(0.0005530956897523698),\n",
       " np.float64(0.0013376389590437077),\n",
       " np.float64(-0.00046572683437939855),\n",
       " np.float64(-0.001849336272145119),\n",
       " np.float64(-0.0005207235623534423),\n",
       " np.float64(0.0002156434244028338),\n",
       " np.float64(-0.0011199432142989796),\n",
       " np.float64(-0.0002870428930508151),\n",
       " np.float64(-0.0003968913923869666),\n",
       " np.float64(-0.00016982140777932475),\n",
       " np.float64(-0.0010786879941449001),\n",
       " np.float64(0.0006008251648490504),\n",
       " np.float64(0.0019567571745779944),\n",
       " np.float64(0.0012891966384918074),\n",
       " np.float64(-0.0015121278749775646),\n",
       " np.float64(-0.0005281118966358189),\n",
       " np.float64(-0.00019065963128628294),\n",
       " np.float64(-0.0006447416178572141),\n",
       " np.float64(-0.0005277469470487128),\n",
       " np.float64(-0.002668336485986522),\n",
       " np.float64(-0.001966339469813172),\n",
       " np.float64(0.0013166711272720732),\n",
       " np.float64(-0.0008580615677854508),\n",
       " np.float64(-0.00017711935735076345),\n",
       " np.float64(-0.001402079847128812),\n",
       " np.float64(0.00037357952693528595),\n",
       " np.float64(-0.0014844572684284962),\n",
       " np.float64(-0.0007345073734392749),\n",
       " np.float64(0.0012477794080070215),\n",
       " np.float64(-0.0004862308049935482),\n",
       " np.float64(0.00048384754775954164),\n",
       " np.float64(-0.0010510122714800785),\n",
       " np.float64(-0.001216186635567551),\n",
       " np.float64(0.0012408702832291674),\n",
       " np.float64(-0.0011471977101038533),\n",
       " np.float64(-0.0008099279195479259),\n",
       " np.float64(-0.0006931498309710182),\n",
       " np.float64(-6.667397784865248e-05),\n",
       " np.float64(-0.0005005248533098694),\n",
       " np.float64(0.00012576681964704406),\n",
       " np.float64(-0.0009199708312811472),\n",
       " np.float64(0.0005114806361268265),\n",
       " np.float64(0.0010275111097470813),\n",
       " np.float64(-0.0004040631444377496),\n",
       " np.float64(0.0011378285863565818),\n",
       " np.float64(0.002122173701475605),\n",
       " np.float64(-4.630814235873082e-05),\n",
       " np.float64(-0.0008375882938655987),\n",
       " np.float64(0.0023901356620222858),\n",
       " np.float64(0.00042856090656218093),\n",
       " np.float64(0.0013787748031646174),\n",
       " np.float64(-0.0007687579679890311),\n",
       " np.float64(-0.003040061515720449),\n",
       " np.float64(0.00017427906044698016),\n",
       " np.float64(-0.0013675819736531647),\n",
       " np.float64(-0.0011126452647274299),\n",
       " np.float64(0.0003462329410476306),\n",
       " np.float64(0.0012754517199280446),\n",
       " np.float64(0.0015505308606245105),\n",
       " np.float64(-0.0006931907598967113),\n",
       " np.float64(-0.0021729736986829673),\n",
       " np.float64(0.0004976879671497736),\n",
       " np.float64(-0.0010303394690476253),\n",
       " np.float64(0.0018330494967604416),\n",
       " np.float64(0.00028422476598166657),\n",
       " np.float64(-0.0006173575137876641),\n",
       " np.float64(-0.00047276556742181786),\n",
       " np.float64(0.00028434584738679103),\n",
       " np.float64(0.0015923983092916982),\n",
       " np.float64(0.0014403532245110817),\n",
       " np.float64(0.0013237115656864473),\n",
       " np.float64(0.0007866945012036108),\n",
       " np.float64(0.0008209826139352616),\n",
       " np.float64(0.0019153331226056114),\n",
       " np.float64(8.459686808814926e-05),\n",
       " np.float64(0.0009037437439129992),\n",
       " np.float64(0.0013922536837115418),\n",
       " np.float64(0.0022254336859518498),\n",
       " np.float64(-0.001243453068975775),\n",
       " np.float64(0.0012684419782080791),\n",
       " np.float64(0.000656084520096023),\n",
       " ...]"
      ]
     },
     "execution_count": 31,
     "metadata": {},
     "output_type": "execute_result"
    }
   ],
   "source": [
    "p_diffs = []\n",
    "\n",
    "for _ in range(10000):\n",
    "    sim_new = np.random.choice([0,1], size=n_new, p=[p_new, 1-p_new])\n",
    "    sim_old = np.random.choice([0,1], size=n_old, p=[p_old, 1-p_old])\n",
    "    p_diffs.append(sim_new.mean() - sim_old.mean())"
   ]
  },
  {
   "cell_type": "markdown",
   "metadata": {},
   "source": [
    "i. Plot a histogram of the **p_diffs**.  Does this plot look like what you expected?  Use the matching problem in the classroom to assure you fully understand what was computed here."
   ]
  },
  {
   "cell_type": "code",
   "execution_count": 32,
   "metadata": {
    "collapsed": true
   },
   "outputs": [
    {
     "data": {
      "text/plain": [
       "<matplotlib.lines.Line2D at 0x2aa64633390>"
      ]
     },
     "execution_count": 32,
     "metadata": {},
     "output_type": "execute_result"
    },
    {
     "data": {
      "image/png": "[encoded data removed]",
      "text/plain": [
       "<Figure size 640x480 with 1 Axes>"
      ]
     },
     "metadata": {},
     "output_type": "display_data"
    }
   ],
   "source": [
    "p_diffs = np.array(p_diffs)\n",
    "plt.hist(p_diffs)\n",
    "plt.axvline(x = sim_diff, color='r')"
   ]
  },
  {
   "cell_type": "markdown",
   "metadata": {},
   "source": [
    "j. What proportion of the **p_diffs** are greater than the actual difference observed in **ab_data.csv**?"
   ]
  },
  {
   "cell_type": "code",
   "execution_count": 35,
   "metadata": {
    "collapsed": true
   },
   "outputs": [
    {
     "data": {
      "text/plain": [
       "0.9087"
      ]
     },
     "execution_count": 35,
     "metadata": {},
     "output_type": "execute_result"
    }
   ],
   "source": [
    "actual_diffs = (df2[df2.landing_page=='new_page'].converted.mean()) - (df2[df2.landing_page=='old_page'].converted.mean())\n",
    "float((p_diffs > actual_diffs).mean())"
   ]
  },
  {
   "cell_type": "markdown",
   "metadata": {},
   "source": [
    "k. In words, explain what you just computed in part **j.**  What is this value called in scientific studies?  What does this value mean in terms of whether or not there is a difference between the new and old pages?"
   ]
  },
  {
   "cell_type": "markdown",
   "metadata": {},
   "source": [
    "We have computed the actual vs observed differences in the means of users converted through the old and new page. Our p-value calculated above is higher than the critical value of 0.05, due to which we fail to reject the null hypothesis. This means that the new page isn't necessarily better at user conversion than the old page. "
   ]
  },
  {
   "cell_type": "markdown",
   "metadata": {},
   "source": [
    "l. We could also use a built-in to achieve similar results.  Though using the built-in might be easier to code, the above portions are a walkthrough of the ideas that are critical to correctly thinking about statistical significance. Fill in the below to calculate the number of conversions for each page, as well as the number of individuals who received each page. Let `n_old` and `n_new` refer the the number of rows associated with the old page and new pages, respectively."
   ]
  },
  {
   "cell_type": "code",
   "execution_count": 18,
   "metadata": {
    "collapsed": true
   },
   "outputs": [
    {
     "ename": "SyntaxError",
     "evalue": "invalid syntax (762874145.py, line 3)",
     "output_type": "error",
     "traceback": [
      "\u001b[1;36m  Cell \u001b[1;32mIn[18], line 3\u001b[1;36m\u001b[0m\n\u001b[1;33m    convert_old =\u001b[0m\n\u001b[1;37m                  ^\u001b[0m\n\u001b[1;31mSyntaxError\u001b[0m\u001b[1;31m:\u001b[0m invalid syntax\n"
     ]
    }
   ],
   "source": [
    "import statsmodels.api as sm\n",
    "\n",
    "convert_old = \n",
    "convert_new = \n",
    "n_old = \n",
    "n_new = "
   ]
  },
  {
   "cell_type": "markdown",
   "metadata": {},
   "source": [
    "m. Now use `stats.proportions_ztest` to compute your test statistic and p-value.  [Here](http://knowledgetack.com/python/statsmodels/proportions_ztest/) is a helpful link on using the built in."
   ]
  },
  {
   "cell_type": "code",
   "execution_count": null,
   "metadata": {
    "collapsed": true
   },
   "outputs": [],
   "source": []
  },
  {
   "cell_type": "markdown",
   "metadata": {},
   "source": [
    "n. What do the z-score and p-value you computed in the previous question mean for the conversion rates of the old and new pages?  Do they agree with the findings in parts **j.** and **k.**?"
   ]
  },
  {
   "cell_type": "markdown",
   "metadata": {},
   "source": [
    "**Put your answer here.**"
   ]
  },
  {
   "cell_type": "markdown",
   "metadata": {},
   "source": [
    "<a id='regression'></a>\n",
    "### Part III - A regression approach\n",
    "\n",
    "`1.` In this final part, you will see that the result you acheived in the previous A/B test can also be acheived by performing regression.<br><br>\n",
    "\n",
    "a. Since each row is either a conversion or no conversion, what type of regression should you be performing in this case?"
   ]
  },
  {
   "cell_type": "markdown",
   "metadata": {},
   "source": [
    "**Put your answer here.**"
   ]
  },
  {
   "cell_type": "markdown",
   "metadata": {},
   "source": [
    "b. The goal is to use **statsmodels** to fit the regression model you specified in part **a.** to see if there is a significant difference in conversion based on which page a customer receives.  However, you first need to create a column for the intercept, and create a dummy variable column for which page each user received.  Add an **intercept** column, as well as an **ab_page** column, which is 1 when an individual receives the **treatment** and 0 if **control**."
   ]
  },
  {
   "cell_type": "code",
   "execution_count": null,
   "metadata": {
    "collapsed": true
   },
   "outputs": [],
   "source": []
  },
  {
   "cell_type": "markdown",
   "metadata": {},
   "source": [
    "c. Use **statsmodels** to import your regression model.  Instantiate the model, and fit the model using the two columns you created in part **b.** to predict whether or not an individual converts."
   ]
  },
  {
   "cell_type": "code",
   "execution_count": null,
   "metadata": {
    "collapsed": true
   },
   "outputs": [],
   "source": []
  },
  {
   "cell_type": "markdown",
   "metadata": {},
   "source": [
    "d. Provide the summary of your model below, and use it as necessary to answer the following questions."
   ]
  },
  {
   "cell_type": "code",
   "execution_count": null,
   "metadata": {
    "collapsed": true
   },
   "outputs": [],
   "source": []
  },
  {
   "cell_type": "markdown",
   "metadata": {},
   "source": [
    "e. What is the p-value associated with **ab_page**? Why does it differ from the value you found in **Part II**?<br><br>  **Hint**: What are the null and alternative hypotheses associated with your regression model, and how do they compare to the null and alternative hypotheses in the **Part II**?"
   ]
  },
  {
   "cell_type": "markdown",
   "metadata": {},
   "source": [
    "**Put your answer here.**"
   ]
  },
  {
   "cell_type": "markdown",
   "metadata": {},
   "source": [
    "f. Now, you are considering other things that might influence whether or not an individual converts.  Discuss why it is a good idea to consider other factors to add into your regression model.  Are there any disadvantages to adding additional terms into your regression model?"
   ]
  },
  {
   "cell_type": "markdown",
   "metadata": {},
   "source": [
    "**Put your answer here.**"
   ]
  },
  {
   "cell_type": "markdown",
   "metadata": {},
   "source": [
    "g. Now along with testing if the conversion rate changes for different pages, also add an effect based on which country a user lives. You will need to read in the **countries.csv** dataset and merge together your datasets on the approporiate rows.  [Here](https://pandas.pydata.org/pandas-docs/stable/generated/pandas.DataFrame.join.html) are the docs for joining tables. \n",
    "\n",
    "Does it appear that country had an impact on conversion?  Don't forget to create dummy variables for these country columns - **Hint: You will need two columns for the three dummy variables.** Provide the statistical output as well as a written response to answer this question."
   ]
  },
  {
   "cell_type": "code",
   "execution_count": null,
   "metadata": {
    "collapsed": true
   },
   "outputs": [],
   "source": [
    "countries_df = pd.read_csv('./countries.csv')\n",
    "df_new = countries_df.set_index('user_id').join(df2.set_index('user_id'), how='inner')"
   ]
  },
  {
   "cell_type": "code",
   "execution_count": null,
   "metadata": {
    "collapsed": true
   },
   "outputs": [],
   "source": [
    "### Create the necessary dummy variables"
   ]
  },
  {
   "cell_type": "markdown",
   "metadata": {},
   "source": [
    "h. Though you have now looked at the individual factors of country and page on conversion, we would now like to look at an interaction between page and country to see if there significant effects on conversion.  Create the necessary additional columns, and fit the new model.  \n",
    "\n",
    "Provide the summary results, and your conclusions based on the results."
   ]
  },
  {
   "cell_type": "code",
   "execution_count": null,
   "metadata": {
    "collapsed": true
   },
   "outputs": [],
   "source": [
    "### Fit Your Linear Model And Obtain the Results"
   ]
  },
  {
   "cell_type": "markdown",
   "metadata": {},
   "source": [
    "<a id='conclusions'></a>\n",
    "## Conclusions\n",
    "\n",
    "Congratulations on completing the project! \n",
    "\n",
    "### Gather Submission Materials\n",
    "\n",
    "Once you are satisfied with the status of your Notebook, you should save it in a format that will make it easy for others to read. You can use the __File -> Download as -> HTML (.html)__ menu to save your notebook as an .html file. If you are working locally and get an error about \"No module name\", then open a terminal and try installing the missing module using `pip install <module_name>` (don't include the \"<\" or \">\" or any words following a period in the module name).\n",
    "\n",
    "You will submit both your original Notebook and an HTML or PDF copy of the Notebook for review. There is no need for you to include any data files with your submission. If you made reference to other websites, books, and other resources to help you in solving tasks in the project, make sure that you document them. It is recommended that you either add a \"Resources\" section in a Markdown cell at the end of the Notebook report, or you can include a `readme.txt` file documenting your sources.\n",
    "\n",
    "### Submit the Project\n",
    "\n",
    "When you're ready, click on the \"Submit Project\" button to go to the project submission page. You can submit your files as a .zip archive or you can link to a GitHub repository containing your project files. If you go with GitHub, note that your submission will be a snapshot of the linked repository at time of submission. It is recommended that you keep each project in a separate repository to avoid any potential confusion: if a reviewer gets multiple folders representing multiple projects, there might be confusion regarding what project is to be evaluated.\n",
    "\n",
    "It can take us up to a week to grade the project, but in most cases it is much faster. You will get an email once your submission has been reviewed. If you are having any problems submitting your project or wish to check on the status of your submission, please email us at dataanalyst-project@udacity.com. In the meantime, you should feel free to continue on with your learning journey by beginning the next module in the program."
   ]
  },
  {
   "cell_type": "code",
   "execution_count": null,
   "metadata": {
    "collapsed": true
   },
   "outputs": [],
   "source": []
  }
 ],
 "metadata": {
  "kernelspec": {
   "display_name": "Python 3",
   "language": "python",
   "name": "python3"
  },
  "language_info": {
   "codemirror_mode": {
    "name": "ipython",
    "version": 3
   },
   "file_extension": ".py",
   "mimetype": "text/x-python",
   "name": "python",
   "nbconvert_exporter": "python",
   "pygments_lexer": "ipython3",
   "version": "3.11.2"
  }
 },
 "nbformat": 4,
 "nbformat_minor": 2
}
